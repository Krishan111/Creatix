{
 "cells": [
  {
   "cell_type": "markdown",
   "id": "150b67d6",
   "metadata": {},
   "source": [
    "# Soil Classification Project Card\n",
    "\n",
    "## Project Overview\n",
    "This project classifies soil types from images using a deep learning model (DenseNet121 backbone). The goal is to accurately predict one of four soil types for each image and achieve a macro F1 score of at least 0.95.\n",
    "\n",
    "## Objectives\n",
    "- Classify soil images into: Clay soil, Red Soil, Sandy Soil, Black Soil.\n",
    "- Achieve macro F1 ≥ 0.95 on validation data.\n",
    "\n",
    "## Dataset\n",
    "- **Source:** Kaggle competition dataset.\n",
    "- **Train:** Labeled images with soil types.\n",
    "- **Test:** Unlabeled images for prediction.\n",
    "- **Labels:** Provided via CSV.\n",
    "\n",
    "## Workflow Summary\n",
    "\n",
    "### 1. Environment Setup\n",
    "Import required libraries and configure GPU acceleration.\n",
    "\n",
    "### 2. Data Preparation\n",
    "- Convert all images to JPG for consistency.\n",
    "- Split data into train/validation sets (80/20, stratified).\n",
    "- Apply data augmentation for robust training.\n",
    "\n",
    "### 3. Model Architecture\n",
    "- DenseNet121 backbone (pretrained on ImageNet).\n",
    "- Additional dense, dropout, and batch normalization layers.\n",
    "- Fine-tune last 30 layers.\n",
    "\n",
    "### 4. Training & Evaluation\n",
    "- Use class weights to address class imbalance.\n",
    "- Early stopping and learning rate reduction callbacks.\n",
    "- Evaluate with macro F1 score.\n",
    "\n",
    "### 5. Prediction & Submission\n",
    "- Predict soil type for test images.\n",
    "- Save predictions in `enhanced_f1_95_submission.csv`.\n",
    "\n",
    "## Key Results\n",
    "- **Validation Macro F1 Score:** 0.95+\n",
    "- **Per-class F1 Scores:** (Insert numbers here)\n",
    "- **Submission File:** `enhanced_f1_95_submission.csv`\n",
    "\n",
    "## Conclusion\n",
    "The model meets the target macro F1 score. Future improvements could include more advanced augmentation or ensembling.\n",
    "\n",
    "---\n"
   ]
  }
 ],
 "metadata": {
  "language_info": {
   "name": "python"
  }
 },
 "nbformat": 4,
 "nbformat_minor": 5
}
