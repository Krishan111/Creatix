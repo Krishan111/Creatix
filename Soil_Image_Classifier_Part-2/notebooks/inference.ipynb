{
 "cells": [
  {
   "cell_type": "code",
   "execution_count": null,
   "id": "5a257e66",
   "metadata": {},
   "outputs": [],
   "source": [
    "\"\"\"\n",
    "Team Name: Creatix\n",
    "Team Members: Siddharth Malkania, Krishan Verma , Rishi Mehrotra\n",
    "Leaderboard Rank: 117\n",
    "\n",
    "\"\"\"\n",
    "import numpy as np\n",
    "\n",
    "class InferenceEngine:\n",
    "    def __init__(self, models):\n",
    "        self.models = models\n",
    "        self.weights = [0.2, 0.18, 0.15, 0.12, 0.1] + [0.08, 0.08, 0.09]\n",
    "\n",
    "    def predict(self, X_test):\n",
    "        all_predictions = []\n",
    "        for model_type, model, param in self.models:\n",
    "            try:\n",
    "                preds = model.predict(X_test)\n",
    "                binary_preds = [1 if p == 1 else 0 for p in preds]\n",
    "                all_predictions.append(binary_preds)\n",
    "            except:\n",
    "                all_predictions.append([1] * len(X_test))\n",
    "\n",
    "        final_predictions = []\n",
    "        for i in range(len(X_test)):\n",
    "            votes = [pred[i] for pred in all_predictions]\n",
    "            weighted_vote = np.average(votes, weights=self.weights[:len(votes)])\n",
    "            final_predictions.append(1 if weighted_vote >= 0.45 else 0)\n",
    "            \n",
    "        return final_predictions"
   ]
  }
 ],
 "metadata": {
  "language_info": {
   "name": "python"
  }
 },
 "nbformat": 4,
 "nbformat_minor": 5
}
