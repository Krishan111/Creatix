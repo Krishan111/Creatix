{
 "cells": [
  {
   "cell_type": "code",
   "execution_count": null,
   "id": "21a32a6b",
   "metadata": {},
   "outputs": [],
   "source": [
    "\"\"\"\n",
    "Team Name: Creatix\n",
    "Team Members: Siddharth Malkania, Krishan Verma , Rishi Mehrotra\n",
    "Leaderboard Rank: 117\n",
    "\n",
    "\"\"\"\n",
    "\n",
    "from sklearn.ensemble import IsolationForest\n",
    "from sklearn.svm import OneClassSVM\n",
    "\n",
    "class Trainer:\n",
    "    def __init__(self):\n",
    "        self.models = []\n",
    "\n",
    "    def train_ensemble(self, X_train):\n",
    "        contamination_rates = [0.1, 0.12, 0.15, 0.18, 0.2]\n",
    "        for contamination in contamination_rates:\n",
    "            model = IsolationForest(\n",
    "                contamination=contamination,\n",
    "                random_state=42,\n",
    "                n_estimators=300,\n",
    "                max_samples=0.8,\n",
    "                max_features=0.9,\n",
    "                n_jobs=-1\n",
    "            )\n",
    "            model.fit(X_train)\n",
    "            self.models.append(('isolation_forest', model, contamination))\n",
    "\n",
    "        nu_values = [0.1, 0.15, 0.2]\n",
    "        for nu in nu_values:\n",
    "            try:\n",
    "                model = OneClassSVM(gamma='scale', nu=nu)\n",
    "                model.fit(X_train)\n",
    "                self.models.append(('one_class_svm', model, nu))\n",
    "            except:\n",
    "                print(f\"OneClassSVM with nu={nu} failed\")\n",
    "        \n",
    "        return self.models"
   ]
  }
 ],
 "metadata": {
  "language_info": {
   "name": "python"
  }
 },
 "nbformat": 4,
 "nbformat_minor": 5
}
